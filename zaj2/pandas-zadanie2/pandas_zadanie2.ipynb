{
 "cells": [
  {
   "cell_type": "code",
   "execution_count": 4,
   "id": "fe1392c1",
   "metadata": {},
   "outputs": [],
   "source": [
    "import pandas as pd\n",
    "import numpy as np"
   ]
  },
  {
   "cell_type": "markdown",
   "id": "db1cd86e",
   "metadata": {},
   "source": [
    "## struktura danych <font color='red'> Series <font>\n",
    "\n",
    "obiekt 1D podobny do tablicy/listy, zawartość dowolna, indeksy od 0"
   ]
  },
  {
   "cell_type": "markdown",
   "id": "7a7e8ebb",
   "metadata": {},
   "source": [
    "### tworzenie"
   ]
  },
  {
   "cell_type": "code",
   "execution_count": 2,
   "id": "be63de79",
   "metadata": {},
   "outputs": [],
   "source": [
    "#bezpośrednio\n",
    "#s = pd.Series(...)\n",
    "\n",
    "#ze słownika\n",
    "#slownik = {...}\n",
    "#s = pd.Series(slownik)\n",
    "\n",
    "#albo:\n",
    "#s = pd.Series(slownik, index=[...])\n",
    "\n",
    "#z pojedynczej wartości\n",
    "#s = pd.Series(...)"
   ]
  },
  {
   "cell_type": "markdown",
   "id": "802ab19a",
   "metadata": {},
   "source": [
    "### odwołania"
   ]
  },
  {
   "cell_type": "code",
   "execution_count": 6,
   "id": "dea3de94",
   "metadata": {},
   "outputs": [],
   "source": [
    "s = pd.Series(np.random.randn(5), index=['a', 'b', 'c', 'i', 'e'])\n",
    "\n",
    "#dla powyższego wypisać:\n",
    "#wszystkie wartości > 0.5\n",
    "\n",
    "#wartości powyżej średniej globalnej\n",
    "\n",
    "#warstwę od indeksu 'b' do 'i'\n",
    "\n",
    "#podstawić:\n",
    "#dla elementu pod indeksem 'b' wartość 17\n",
    "\n",
    "#dla elementu pod indeksem 0 wartość 10\n"
   ]
  },
  {
   "cell_type": "code",
   "execution_count": null,
   "id": "f00a2a10",
   "metadata": {},
   "outputs": [],
   "source": [
    "s1 = pd.Series([68, 83, 112, 68], index=[\"a\", \"b\", \"c\", \"d\"])\n",
    "s2 = pd.Series([68, 83, 112, 68], index=[\"a\", \"b\", \"f\", \"d\"])\n",
    "\n",
    "#wyjaśnić wynik działania:\n",
    "s1 + s2\n"
   ]
  },
  {
   "cell_type": "markdown",
   "id": "e9953bd0",
   "metadata": {},
   "source": [
    "### braki"
   ]
  },
  {
   "cell_type": "code",
   "execution_count": 15,
   "id": "a28bb2e0",
   "metadata": {},
   "outputs": [],
   "source": [
    "#wypełnić braki liczbą 200\n",
    "cities = pd.Series({'Chicago': 1000, 'New York': np.NaN, 'Portland': 900,\n",
    "                 'San Francisco': 1100, 'Austin': 450, 'Boston': None})\n"
   ]
  },
  {
   "cell_type": "markdown",
   "id": "85722cb3",
   "metadata": {},
   "source": [
    "### wizualizacja"
   ]
  },
  {
   "cell_type": "code",
   "execution_count": null,
   "id": "d66a11c4",
   "metadata": {},
   "outputs": [],
   "source": [
    "#narysować przebieg pomiarów:\n",
    "import matplotlib.pyplot as plt\n",
    "pomiary = pd.Series([4,5.5,6,6.2,6.1,6.1,5.5,5.1,4.7,4,3.8,3.5], name=\"Pomiary\")\n",
    "#..."
   ]
  },
  {
   "cell_type": "markdown",
   "id": "4a19cdb3",
   "metadata": {},
   "source": [
    "## struktura danych <font color='red'> DataFrame <font>"
   ]
  },
  {
   "cell_type": "markdown",
   "id": "f42dc804",
   "metadata": {},
   "source": [
    "### tworzenie"
   ]
  },
  {
   "cell_type": "code",
   "execution_count": 20,
   "id": "3910339a",
   "metadata": {},
   "outputs": [],
   "source": [
    "#utworzyć dowolny obiekt DataFrame:\n",
    "#ze słownika\n",
    "\n",
    "#ze listy lub słownika list\n",
    "\n",
    "#z macierzy ndarray\n",
    "\n",
    "#z innego DataFrame\n"
   ]
  },
  {
   "cell_type": "markdown",
   "id": "966c8bcc",
   "metadata": {},
   "source": [
    "### info"
   ]
  },
  {
   "cell_type": "code",
   "execution_count": 21,
   "id": "5dcb6eb0",
   "metadata": {},
   "outputs": [],
   "source": [
    "data = {'year': [2010, 2011, 2012, 2011, 2012, 2010, 2011, 2012],\n",
    "        'team': ['Bears', 'Bears', 'Bears', 'Packers', 'Packers', 'Lions', 'Lions', 'Lions'],\n",
    "        'wins': [11, 8, 10, 15, 11, 6, 10, 4],\n",
    "        'losses': [5, 8, 6, 1, 5, 10, 6, 12]}\n",
    "df = pd.DataFrame(data, columns=['year', 'team', 'wins', 'losses'])"
   ]
  },
  {
   "cell_type": "code",
   "execution_count": null,
   "id": "a7cdb284",
   "metadata": {},
   "outputs": [],
   "source": [
    "#dla powyższego obiektu df wypisać wszelkie informacje oddawane za pomocą metod klasy DataFrame:\n"
   ]
  },
  {
   "cell_type": "markdown",
   "id": "072c2061",
   "metadata": {},
   "source": [
    "### obniżenie poziomu obiektu DataFrame"
   ]
  },
  {
   "cell_type": "code",
   "execution_count": 143,
   "id": "086b1bb0",
   "metadata": {},
   "outputs": [],
   "source": [
    "#napisać obiekt DataFrame o dwóch poziomach kolumn i/lub wierszy\n",
    "\n",
    "#obniżyć poziom indeksów\n"
   ]
  },
  {
   "cell_type": "markdown",
   "id": "2dc9fbe7",
   "metadata": {},
   "source": [
    "### selekcja danych"
   ]
  },
  {
   "cell_type": "code",
   "execution_count": 23,
   "id": "52efe812",
   "metadata": {},
   "outputs": [],
   "source": [
    "data = {'year': [2010, 2011, 2012, 2011, 2012, 2010, 2011, 2012],\n",
    "        'team': ['Bears', 'Bears', 'Bears', 'Packers', 'Packers', 'Lions', 'Lions', 'Lions'],\n",
    "        'wins': [11, 8, 10, 15, 11, 6, 10, 4],\n",
    "        'losses': [5, 8, 6, 1, 5, 10, 6, 12]}\n",
    "df = pd.DataFrame(data)"
   ]
  },
  {
   "cell_type": "code",
   "execution_count": 25,
   "id": "f5305236",
   "metadata": {},
   "outputs": [],
   "source": [
    "#wybrać tylko kolumny 'year' i 'wins'\n",
    "\n",
    "#ustawić indeksowanie na podstawie 'team'\n",
    "\n",
    "#wybrać rekord pierwszy i czwarty\n"
   ]
  },
  {
   "cell_type": "code",
   "execution_count": 27,
   "id": "d677539f",
   "metadata": {},
   "outputs": [],
   "source": [
    "#warunki i funkcje\n",
    "#wypisać dane dla wartości 'wins' > 10\n",
    "\n",
    "#wyliczyć średnie kolumn: 'wins' i 'losses'\n",
    "\n",
    "#przypisać rekordowi szóstemu w kolumnie 'losses' wartość 0\n"
   ]
  },
  {
   "cell_type": "markdown",
   "id": "7e1e11c4",
   "metadata": {},
   "source": [
    "### dodawanie/usuwanie kolumn"
   ]
  },
  {
   "cell_type": "code",
   "execution_count": null,
   "id": "62c47426",
   "metadata": {},
   "outputs": [],
   "source": [
    "data = {\n",
    "    \"weight\": pd.Series([68, 83, 112], index=[\"alice\", \"bob\", \"charles\"]),\n",
    "    \"birthyear\": pd.Series([1984, 1985, 1992], index=[\"bob\", \"alice\", \"charles\"], name=\"year\"),\n",
    "    \"children\": pd.Series([0, 3], index=[\"charles\", \"bob\"]),\n",
    "    \"hobby\": pd.Series([\"Biking\", \"Dancing\"], index=[\"alice\", \"bob\"]),\n",
    "}\n",
    "df = pd.DataFrame(data)\n",
    "df"
   ]
  },
  {
   "cell_type": "code",
   "execution_count": 30,
   "id": "a6141b23",
   "metadata": {},
   "outputs": [],
   "source": [
    "#dodać (na końcu) kolumnę \"age\" równą 2025 - wartość \"birthyear\"\n",
    "\n",
    "#dodać (na końcu) kolumnę \"over 30\" i umieścić wynik warunku \"age\" > 30\n",
    "\n",
    "#co się dzieje, jeśli dodana kolumna ma mniejszą/większą liczbę wierszy?\n",
    "\n",
    "#usunąć kolumnę \"children\"\n",
    "\n",
    "#dodać kolumnę \"height\" z wartościami [172, 181, 185] po kolumnie \"weight\"\n"
   ]
  },
  {
   "cell_type": "markdown",
   "id": "a7314083",
   "metadata": {},
   "source": [
    "### obliczanie wyrażeń\n",
    "\n",
    "(do niektórych pytań konieczna biblioteka numexpr)"
   ]
  },
  {
   "cell_type": "code",
   "execution_count": 31,
   "id": "3242bf77",
   "metadata": {},
   "outputs": [],
   "source": [
    "#dla każdego rekordu wyliczyć wartość logiczną: \"weight / (height/100) ** 2 > 25\"\n",
    "\n",
    "#zrobić kwerendę: \"age > 30 and pets == 0\"\n"
   ]
  },
  {
   "cell_type": "markdown",
   "id": "033f8cf3",
   "metadata": {},
   "source": [
    "### sortowanie"
   ]
  },
  {
   "cell_type": "code",
   "execution_count": 19,
   "id": "57377f6b",
   "metadata": {},
   "outputs": [],
   "source": [
    "#dla dowolnego DataFrame wykonać sortowanie:\n",
    "#po wierszach malejąco\n",
    "\n",
    "#po kolumnach rosnąco, z modyfikacją oryginału\n",
    "\n",
    "#po wartościach danej kolumny, z modyfikacją oryginału"
   ]
  },
  {
   "cell_type": "markdown",
   "id": "c2ccddad",
   "metadata": {},
   "source": [
    "### wizualizacja danych"
   ]
  },
  {
   "cell_type": "code",
   "execution_count": 33,
   "id": "7f8c7f7a",
   "metadata": {},
   "outputs": [],
   "source": [
    "#załadować dowolny zbiór danych z pliku csv\n",
    "#na podstawie tych danych: \n",
    "#zrobić przykładowy wykres typu \"boxplot\"\n",
    "\n",
    "#narysować przykładowy histogram\n",
    "\n",
    "#narysować funkcję gęstości prawdopodobieńtwa dla dowolnej zmiennej\n"
   ]
  },
  {
   "cell_type": "markdown",
   "id": "24994269",
   "metadata": {},
   "source": [
    "### działania arytmetyczne/warunkowe na DataFrame"
   ]
  },
  {
   "cell_type": "code",
   "execution_count": null,
   "id": "b0156efb",
   "metadata": {},
   "outputs": [],
   "source": [
    "#zrobić obiekt DF o kolumnach [\"Sep\", \"Oct\", \"Nov\"] dla rekordów [\"alice\",\"bob\",\"charles\",\"darwin\"]\n",
    "# z danych:\n",
    "data = np.array([[8,8,9],[10,9,9],[4, 8, 2], [9, 10, 10]])\n"
   ]
  },
  {
   "cell_type": "code",
   "execution_count": 36,
   "id": "afb0019d",
   "metadata": {},
   "outputs": [],
   "source": [
    "#do każdej wartości z powyższych danych dodać 1\n",
    "\n",
    "#na każdej wartości wyliczyć pierwiatstek\n",
    "\n",
    "#od każdego rekordu odjąć globalną średnią\n",
    "\n",
    "#wyliczyć średnie po i) wierszach, ii) po kolumnach\n",
    "\n",
    "#sprawdzić, czy wszystkie wartości są większe niż 5\n"
   ]
  },
  {
   "cell_type": "markdown",
   "id": "e2a0626c",
   "metadata": {},
   "source": [
    "### zapis DataFrame do pliku"
   ]
  },
  {
   "cell_type": "code",
   "execution_count": 17,
   "id": "6b089daa",
   "metadata": {},
   "outputs": [],
   "source": [
    "#zapis do pliku csv (/html/json/xlsx)\n",
    "\n",
    "#załadowanie pliku csv"
   ]
  },
  {
   "cell_type": "markdown",
   "id": "fbfc0eda",
   "metadata": {},
   "source": [
    "### łączenie DataFrames"
   ]
  },
  {
   "cell_type": "code",
   "execution_count": 16,
   "id": "abc79372",
   "metadata": {},
   "outputs": [],
   "source": [
    "#utworzyć dwa dowolne (kompatybilne) DataFrame'y:\n",
    "\n",
    "#wykonać operację INNER JOIN po jednej z kolumn\n",
    "\n",
    "#wykonać operację RIGHT OUTER JOIN\n",
    "\n",
    "#wykonać operację LEFT OUTER JOIN\n",
    "\n",
    "#wykonać operację OUTER JOIN"
   ]
  },
  {
   "cell_type": "code",
   "execution_count": null,
   "id": "82404b35",
   "metadata": {},
   "outputs": [],
   "source": [
    "#podać przykład działania metody concat() na powyższych DataFrame'ach\n"
   ]
  }
 ],
 "metadata": {
  "kernelspec": {
   "display_name": "Python 3 (ipykernel)",
   "language": "python",
   "name": "python3"
  },
  "language_info": {
   "codemirror_mode": {
    "name": "ipython",
    "version": 3
   },
   "file_extension": ".py",
   "mimetype": "text/x-python",
   "name": "python",
   "nbconvert_exporter": "python",
   "pygments_lexer": "ipython3",
   "version": "3.10.11"
  }
 },
 "nbformat": 4,
 "nbformat_minor": 5
}
