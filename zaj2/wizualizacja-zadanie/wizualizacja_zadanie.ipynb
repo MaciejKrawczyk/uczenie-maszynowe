{
 "cells": [
  {
   "cell_type": "code",
   "execution_count": null,
   "id": "082cd07a",
   "metadata": {},
   "outputs": [],
   "source": [
    "import pandas as pd\n",
    "import numpy as np\n",
    "import matplotlib.pyplot as plt\n",
    "import seaborn as sns\n",
    "import mlxtend.plotting as mx"
   ]
  },
  {
   "cell_type": "markdown",
   "id": "341c2612",
   "metadata": {},
   "source": [
    "# Matplotlib\n",
    "\n",
    "Ta biblioteka jest zawsze wykorzystywana jako \"backend\" przez biblioteki poniższe.<br>\n",
    "Można w niej tworzyć wykresy, ale wymaga to \"ręcznej\" specyfikacji zmiennych.<br>\n",
    "Używana jest głownie do tworzenia środowiska graficznego i \"upiększania\" wykresów: tworzenia figur, subplotów, napisów, ticków, itp.<br>\n",
    "Natomiast wizualna analiza danych robiona jest zazwyczaj przez poniższe biblioteki."
   ]
  },
  {
   "cell_type": "markdown",
   "id": "f619be38",
   "metadata": {},
   "source": [
    "# Pandas\n",
    "\n",
    "ma własne metody wizualizacji danych"
   ]
  },
  {
   "cell_type": "code",
   "execution_count": null,
   "id": "76ba5dea",
   "metadata": {},
   "outputs": [],
   "source": [
    "#utworzyć/załadować dane jako DataFrame\n",
    "df = pd.DataFrame(...)\n"
   ]
  },
  {
   "cell_type": "raw",
   "id": "28238b92",
   "metadata": {},
   "source": [
    "df.plot()                  = df.plot.line()\n",
    "df.plot.bar()              = df.plot(kind='bar')\n",
    "df.plot.barh()             = df.plot(kind='barh')\n",
    "df.plot.hist()             = df.plot(kind='hist')\n",
    "df.plot.box()              = df.plot(kind='box')\n",
    "df.plot.kde()              = df.plot(kind='kde')\n",
    "df.plot.density()          = df.plot(kind='density')\n",
    "df.plot.area()             = df.plot(kind='area')\n",
    "df.plot.pie()              = df.plot(kind='pie')\n",
    "df.plot.scatter(x='column1', y='column2')     = df.plot(kind='scatter', x='column1', y='column2')\n",
    "df.plot.hexbin(x='column1', y='column2')      = df.plot(kind='hexbin', x='column1', y='column2')\n",
    "df.hist()\n",
    "df.boxplot()"
   ]
  },
  {
   "cell_type": "code",
   "execution_count": null,
   "id": "b8f6a1df",
   "metadata": {},
   "outputs": [],
   "source": [
    "#dla przygotowanych danych zademonstrować powyższe metody:\n"
   ]
  },
  {
   "cell_type": "markdown",
   "id": "afb4e71c",
   "metadata": {},
   "source": [
    "# Seaborn"
   ]
  },
  {
   "cell_type": "raw",
   "id": "f7304a16",
   "metadata": {},
   "source": [
    "Uwaga:\n",
    "W Pandas dane mają format tzw. \"szeroki\", tzn. każda cecha jest w oddzielnej kolumnie\n",
    "W Seaborn jest standardowo stosowany tzw. format \"długi\" danych, tzn. jedna kolumna wartości + kolumna kategorii."
   ]
  },
  {
   "cell_type": "raw",
   "id": "1eab1800",
   "metadata": {},
   "source": [
    "Przekształcenie danych z formatu szerokiego na długi:\n",
    "df = pd.DataFrame(data)\n",
    "df_long = df.reset_index().melt(id_vars='index')"
   ]
  },
  {
   "cell_type": "raw",
   "id": "147068e0",
   "metadata": {},
   "source": [
    "Dane do macierzy korelacji:\n",
    "df_corr = pd.DataFrame(np.corrcoef(data))"
   ]
  },
  {
   "cell_type": "raw",
   "id": "7602c888",
   "metadata": {},
   "source": [
    "Seaborn                                                             Pandas odpowiednik\n",
    "-mogą być jako subploty:\n",
    "sns.lineplot(data=df_long)                                          df.plot()\n",
    "sns.barplot(data=df_long, x='kategoria', y='wartość')               df.plot.bar()                   \n",
    "sns.barplot(data=df_long, y='kategoria', x='wartość', orient='h')   df.plot.barh()\n",
    "\n",
    "sns.histplot(data=df_long) lub\n",
    "sns.histplot(data=df_long, x='wartość', hue='zmienna')              df.plot.hist()\n",
    "\n",
    "sns.boxplot(data=df_long) lub\n",
    "sns.boxplot(data=df_long, x='zmienna', y='wartość')                 df.plot.box()\n",
    "\n",
    "sns.kdeplot(data=df_long) lub\n",
    "sns.kdeplot(data=df_long, x='wartość', hue='zmienna')               df.plot.kde()\n",
    "\n",
    "sns.kdeplot(data=df_long, fill=True)                                df.plot.density()\n",
    "sns.lineplot() + plt.fill_between()                                 df.plot.area()                  \n",
    "\n",
    "-wymagają osobnych obiektów figure:\n",
    "sns.scatterplot(data=df, x='kol1', y='kol2')                   df.plot.scatter(x='kol1', y='kol2')\n",
    "sns.jointplot(data=df, x='kol1', y='kol2', kind='hex')         df.plot.hexbin(x='kol1', y='kol2')\n",
    "wiele histogramów:\n",
    "sns.histplot(data=df)                                               df.hist()\n",
    "sns.boxplot(data=df)                                                df.boxplot()   "
   ]
  },
  {
   "cell_type": "code",
   "execution_count": null,
   "id": "b2ce11a8",
   "metadata": {},
   "outputs": [],
   "source": [
    "#dla przygotowanych danych zademonstrować powyższe metody:\n"
   ]
  },
  {
   "cell_type": "raw",
   "id": "fc145d9c",
   "metadata": {},
   "source": [
    "Metody specyficzne dla Seaborn (bez odpowiedników w Pandas):\n",
    "\n",
    "-mogą być jako subploty:\n",
    "sns.violinplot(data=df)                Wykres skrzypcowy (łączy boxplot z KDE)\n",
    "sns.stripplot(data=df)                 Wykres punktowy pokazujący rozkład danych\n",
    "sns.swarmplot(data=df)                 Wykres rojowy (punkty bez nakładania się)\n",
    "sns.countplot(data=df)                 Wykres liczności kategorii\n",
    "sns.heatmap(data=df_corr)              Mapa cieplna\n",
    "\n",
    "-wymagają osobnych obiektów figure: \n",
    "sns.pairplot(data=df)                  Wykresy par zmiennych\n",
    "sns.jointplot(data=df)                 Łączony wykres (rozkłady brzegowe + korelacja)\n",
    "sns.regplot(data=df)                   Wykres regresji\n",
    "sns.lmplot(data=df)                    Wykres regresji z opcjami podziału\n",
    "sns.catplot(data=df)                   Wykres kategoryczny ogólnego przeznaczenia\n",
    "sns.relplot(data=df)                   Wykres relacyjny ogólnego przeznaczenia\n",
    "sns.displot(data=df)                   Wykres rozkładu ogólnego przeznaczenia\n",
    "sns.clustermap(data=df_corr)           Macierz scatterplotów"
   ]
  },
  {
   "cell_type": "code",
   "execution_count": null,
   "id": "c5129218",
   "metadata": {},
   "outputs": [],
   "source": [
    "#narysować powyższe wykresy:\n"
   ]
  },
  {
   "cell_type": "markdown",
   "id": "0d066af9",
   "metadata": {},
   "source": [
    "# Mlxtend\n",
    "\n",
    "oferuje przydatne narzędzia, których nie ma w powyższych bibliotekach<br>\n",
    "wykresy można podzielić wg. zakresu zastosowania:<br>\n",
    "* EDA (Exploratory Data Analysis): Analiza Wstępna\n",
    "* Inżynieria Cech\n",
    "* Uczenie Modeli"
   ]
  },
  {
   "cell_type": "markdown",
   "id": "d4ab6843",
   "metadata": {},
   "source": [
    "**EDA**"
   ]
  },
  {
   "cell_type": "code",
   "execution_count": null,
   "id": "fa599249",
   "metadata": {},
   "outputs": [],
   "source": [
    "#zademonstrować metodę mx.category_scatter:\n"
   ]
  },
  {
   "cell_type": "code",
   "execution_count": null,
   "id": "dc61d23a",
   "metadata": {},
   "outputs": [],
   "source": [
    "#zademonstrować metodę mx.scatterplotmatrix:\n"
   ]
  },
  {
   "cell_type": "code",
   "execution_count": null,
   "id": "59481b46",
   "metadata": {},
   "outputs": [],
   "source": [
    "#zademonstrować metodę mx.scatter_hist:\n"
   ]
  },
  {
   "cell_type": "code",
   "execution_count": null,
   "id": "8e0fea00",
   "metadata": {},
   "outputs": [],
   "source": [
    "#zademonstrować metodę mx.stacked barplot:\n"
   ]
  },
  {
   "cell_type": "code",
   "execution_count": null,
   "id": "c8ffae22",
   "metadata": {},
   "outputs": [],
   "source": [
    "#zademonstrować metodę mx.heatmap:\n"
   ]
  },
  {
   "cell_type": "markdown",
   "id": "9f038500",
   "metadata": {},
   "source": [
    "**Inżynieria cech**"
   ]
  },
  {
   "cell_type": "code",
   "execution_count": null,
   "id": "5bcbd12c",
   "metadata": {},
   "outputs": [],
   "source": [
    "#zademonstrować metodę mx.plot_pca_correlation_graph:\n"
   ]
  },
  {
   "cell_type": "code",
   "execution_count": null,
   "id": "7c313327",
   "metadata": {},
   "outputs": [],
   "source": [
    "#zademonstrować metodę mx.plot_sequential_feature_selection:\n"
   ]
  },
  {
   "cell_type": "markdown",
   "id": "19ee7115",
   "metadata": {},
   "source": [
    "**Uczenie modeli**"
   ]
  },
  {
   "cell_type": "code",
   "execution_count": 6,
   "id": "3615d25a",
   "metadata": {},
   "outputs": [],
   "source": [
    "#zademonstrować metodę mx.plot_learning_curves, która rysuje tzw. \"krzywe uczenia\" - ważne narzędzie \n",
    "# diagnostyczne w monitorowaniu procesu uczenia:\n"
   ]
  },
  {
   "cell_type": "code",
   "execution_count": 7,
   "id": "5fb614a6",
   "metadata": {},
   "outputs": [],
   "source": [
    "#zademonstrować metodę mx.plot_confusion_matrix, która pokazuje dla wyuczonego modelu metryki\n",
    "# TP, FN, TN, FP:\n"
   ]
  },
  {
   "cell_type": "code",
   "execution_count": null,
   "id": "6cdfc05f",
   "metadata": {},
   "outputs": [],
   "source": [
    "#zademonstrować metodę mx.plot_decision_regions, która dla wyuczonego modelu wytycza\n",
    "# obszary decyzyjne (bardzo cenne narzędzie):\n"
   ]
  }
 ],
 "metadata": {
  "kernelspec": {
   "display_name": "Python 3 (ipykernel)",
   "language": "python",
   "name": "python3"
  },
  "language_info": {
   "codemirror_mode": {
    "name": "ipython",
    "version": 3
   },
   "file_extension": ".py",
   "mimetype": "text/x-python",
   "name": "python",
   "nbconvert_exporter": "python",
   "pygments_lexer": "ipython3",
   "version": "3.10.11"
  }
 },
 "nbformat": 4,
 "nbformat_minor": 5
}
