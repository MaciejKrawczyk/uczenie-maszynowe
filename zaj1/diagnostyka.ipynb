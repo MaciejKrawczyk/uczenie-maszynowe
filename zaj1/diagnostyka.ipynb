{
 "cells": [
  {
   "cell_type": "markdown",
   "id": "6b0edc77",
   "metadata": {},
   "source": [
    "## python"
   ]
  },
  {
   "cell_type": "code",
   "id": "a58aed56",
   "metadata": {},
   "source": [
    "#sprawdzić wersję Pythona (można na kilka sposobów?)\n",
    "!python --version"
   ],
   "outputs": [],
   "execution_count": null
  },
  {
   "cell_type": "markdown",
   "id": "7a6ce8c0",
   "metadata": {},
   "source": [
    "## ścieżki"
   ]
  },
  {
   "cell_type": "code",
   "id": "4c0e1d99",
   "metadata": {},
   "source": [
    "#wypisać ścieżki zasobów Pythona\n",
    "#a) systemowych\n",
    "!python -m site\n",
    "#b) dla użytkownika\n",
    "!python -m site --user-site"
   ],
   "outputs": [],
   "execution_count": null
  },
  {
   "cell_type": "code",
   "id": "99c733ea",
   "metadata": {},
   "source": [
    "#wypisać ścieżkę bieżącego katalogu\n",
    "# import sys\n",
    "# print(sys.path)\n",
    "# %pwd\n",
    "import os\n",
    "print(os.listdir(path='../'))\n",
    "print(os.chdir('..'))\n",
    "print(os.path)\n",
    "#wypisać zawartość bieżącego katalogu\n",
    "\n",
    "#zmienić katalog\n",
    "    "
   ],
   "outputs": [],
   "execution_count": null
  },
  {
   "cell_type": "markdown",
   "id": "66397589",
   "metadata": {},
   "source": [
    "## pomoc systemowa"
   ]
  },
  {
   "cell_type": "code",
   "id": "a2aedeff",
   "metadata": {},
   "source": [
    "#dla Pythona\n",
    "!python --help\n",
    "#dla dowolnego obiektu (klasy)\n",
    "\n",
    "# help(MojaKlasa)\n",
    "#MojaKlasa??"
   ],
   "outputs": [],
   "execution_count": null
  },
  {
   "cell_type": "markdown",
   "id": "5965a213",
   "metadata": {},
   "source": [
    "## moduły"
   ]
  },
  {
   "cell_type": "code",
   "id": "1ce066ef",
   "metadata": {},
   "source": [
    "#wypisz moduły zaimportowane przez Pythona\n",
    "import sys\n",
    "list(sys.modules.keys())\n",
    "# help(\"modules\") wypisze wszystko wyszystko"
   ],
   "outputs": [],
   "execution_count": null
  },
  {
   "cell_type": "markdown",
   "id": "cf188eb7",
   "metadata": {},
   "source": [
    "## pip"
   ]
  },
  {
   "cell_type": "code",
   "id": "1ba68f26",
   "metadata": {},
   "source": [
    "#sprawdzić wersję\n",
    "!pip --version"
   ],
   "outputs": [],
   "execution_count": null
  },
  {
   "cell_type": "code",
   "id": "9077c8cc",
   "metadata": {},
   "source": [
    "#jak zaktualizować pip'a?\n",
    "\n",
    "#jak wywoływać pip'a?"
   ],
   "outputs": [],
   "execution_count": null
  },
  {
   "cell_type": "code",
   "id": "0ffb9cd7",
   "metadata": {},
   "source": [
    "#pokazać, czy konkretny pakiet jest zainstalowany\n",
    "!pip show numpy\n",
    "#wypisać listę wszystkich zainstalowanych w systemie pakietów\n"
   ],
   "outputs": [],
   "execution_count": null
  },
  {
   "cell_type": "code",
   "id": "125fa924",
   "metadata": {},
   "source": [
    "#zainstalować pakiety podstawowe dla uczenia maszynowego: numpy, pandas, matplotlib, sklearn\n"
   ],
   "outputs": [],
   "execution_count": null
  },
  {
   "cell_type": "code",
   "id": "3c226157",
   "metadata": {},
   "source": [
    "#INSTALACJA ZA POMOCĄ PIP'a:\n",
    "#jak instalujemy konkretną wersję pakietu (jak zakres)?\n",
    "!pip install numpy==1.19.5\n",
    "#jak zaktualizować pakiet?\n",
    "!pip install --upgrade numpy\n",
    "#jak zainstalować pakiet dla bieżącego użytkownika?\n",
    "!pip install --user numpy\n",
    "#jak zainstalować listę pakietów?\n",
    "!pip install -r requirements.txt\n",
    "#jak zainstalować pakiet z git'a?\n",
    "!pip install git+https://github.com/numpy/numpy.git\n",
    "#jak zainstalować pakiet z url?\n",
    "!pip install --index-url https://test.pypi.org/simple/numpy\n",
    "#jak zainstalować pakiet z lokalnego źródła?\n",
    "!pip install -e \"../katalog/..\"\n",
    "#jak zainstalować pakiet z lokalnego archiwum?\n",
    "\n",
    "#jak zainstalować pakiet z pliku \"wheel\"\n"
   ],
   "outputs": [],
   "execution_count": null
  },
  {
   "cell_type": "markdown",
   "id": "49d5c9be",
   "metadata": {},
   "source": [
    "## jupyter"
   ]
  },
  {
   "cell_type": "code",
   "id": "3719907f",
   "metadata": {},
   "source": "#podać wersje wszystkich pakietów wchodzących w skład jupytera\n",
   "outputs": [],
   "execution_count": null
  },
  {
   "cell_type": "code",
   "id": "84480ea2",
   "metadata": {},
   "source": [
    "#MS-Windows: jak uruchamiać notebooka poprzez kliknięcie?\n",
    "# cmd>jupyter notebook\n",
    "# cmd > jupyter notebook diagnostyka.ipynb\n",
    "# <click>\n",
    "# !pip install nbopen\n",
    "# +wkazac na plik *.ipynb i otworz z"
   ],
   "outputs": [],
   "execution_count": null
  },
  {
   "cell_type": "code",
   "id": "0bb4ac78",
   "metadata": {},
   "source": [
    "#jakie są skróty klawiaturowe dla różnych rodzajów komórek notebooka?\n",
    "# r-raw\n",
    "# y-code\n",
    "# m-markdown"
   ],
   "outputs": [],
   "execution_count": null
  },
  {
   "cell_type": "code",
   "id": "09a81423",
   "metadata": {},
   "source": [
    "#sprawdzić dowolnym wykresem w bibliotece matplotlib poprawność działania środowiska Jupyter\n"
   ],
   "outputs": [],
   "execution_count": null
  },
  {
   "cell_type": "code",
   "id": "de80e91c",
   "metadata": {},
   "source": [
    "#co to są polecenia magiczne? wypisać\n",
    "%lsmagic"
   ],
   "outputs": [],
   "execution_count": null
  },
  {
   "cell_type": "code",
   "id": "a6cd2958",
   "metadata": {},
   "source": [
    "#jak wywołać z komórki notebooka plik .*py?\n",
    "%run \"greg.py\""
   ],
   "outputs": [],
   "execution_count": null
  },
  {
   "cell_type": "code",
   "id": "5099f5cb",
   "metadata": {},
   "source": [
    "#jak zaimport plik .py do komórki notebooka?\n",
    "%load \"greg.py\""
   ],
   "outputs": [],
   "execution_count": null
  },
  {
   "cell_type": "code",
   "id": "9127f2c6",
   "metadata": {},
   "source": [
    "#jakie są popularne, diagnostyczne polecenia magiczne? podac przykład wywołania\n",
    "# %time\n",
    "\n",
    "# %%timeit\n",
    "# for i in range(1000000000):\n",
    "#     i+=1"
   ],
   "outputs": [],
   "execution_count": null
  },
  {
   "cell_type": "markdown",
   "id": "1f46a7c6",
   "metadata": {},
   "source": [
    "## GPU firmy NVidia"
   ]
  },
  {
   "cell_type": "code",
   "id": "a893e7bc",
   "metadata": {},
   "source": "#wypisać podstawowe informacje o GPU: model karty, dostępną pamięć, wersję sterownika, wersję CUDA\n",
   "outputs": [],
   "execution_count": null
  },
  {
   "cell_type": "code",
   "id": "dbe4965f",
   "metadata": {},
   "source": [
    "#wypisać wersję kompilatora CUDA\n"
   ],
   "outputs": [],
   "execution_count": null
  },
  {
   "cell_type": "markdown",
   "id": "7f12a181",
   "metadata": {},
   "source": [
    "## CUDA, CUDNN"
   ]
  },
  {
   "cell_type": "code",
   "id": "5709e350",
   "metadata": {},
   "source": [
    "#jak zainstalować CUDA?\n",
    "\n",
    "#jak zainstalować CUDANN?\n"
   ],
   "outputs": [],
   "execution_count": null
  },
  {
   "cell_type": "markdown",
   "id": "1692e6f1",
   "metadata": {},
   "source": [
    "## TensorFlow"
   ]
  },
  {
   "cell_type": "code",
   "id": "f4974fd6",
   "metadata": {},
   "source": [
    "#zainstalować pakiet tensorFlow ze wsparciem GPU\n",
    "!pip install tensorflow-gpu"
   ],
   "outputs": [],
   "execution_count": null
  },
  {
   "cell_type": "code",
   "id": "601327cf",
   "metadata": {},
   "source": [
    "#sprawdzić wersję zainstalowanego pakietu tensorflow przez jego wywołanie\n"
   ],
   "outputs": [],
   "execution_count": null
  },
  {
   "cell_type": "code",
   "id": "75fe1a2c",
   "metadata": {},
   "source": [
    "#sprawdzić, czy tensorflow działa w trybie charakterystycznym dla wersji TF>1.0\n"
   ],
   "outputs": [],
   "execution_count": null
  },
  {
   "cell_type": "code",
   "id": "d1c9ae76",
   "metadata": {},
   "source": [
    "#wypisać za pomocą tensorflow wersję CUDA\n"
   ],
   "outputs": [],
   "execution_count": null
  },
  {
   "cell_type": "code",
   "id": "da2fd30c",
   "metadata": {},
   "source": [
    "#wypisać kompilator do komoilacji CUDA\n",
    "# sys_details = tf.config.list_physical_devices('GPU')\n",
    "# cpu_compiler = sys_details[\"cpu_compiler\"]\n",
    "# print(cpu_compiler)"
   ],
   "outputs": [],
   "execution_count": null
  },
  {
   "cell_type": "code",
   "id": "5e0377ec",
   "metadata": {},
   "source": [
    "#wypisać \"cuda_compute_capabilities\" (co to oznacza?)\n",
    "# sys_details[\"cuda_compute_capabilities\"]"
   ],
   "outputs": [],
   "execution_count": null
  },
  {
   "cell_type": "code",
   "id": "6b1542d5",
   "metadata": {},
   "source": [
    "#sprawdzić, czy GPU jest osiągalne i podać jego nazwę systemową\n"
   ],
   "outputs": [],
   "execution_count": null
  },
  {
   "cell_type": "code",
   "id": "42f13290",
   "metadata": {},
   "source": [
    "#wypisać listę dostępnych urządzeń fizycznych (CPU, GPU)\n"
   ],
   "outputs": [],
   "execution_count": null
  },
  {
   "cell_type": "code",
   "id": "3c26d51f",
   "metadata": {},
   "source": [
    "#jak przetestować prędkość względną GPU i CPU?\n"
   ],
   "outputs": [],
   "execution_count": null
  },
  {
   "cell_type": "markdown",
   "id": "2d2afb33",
   "metadata": {},
   "source": [
    "## PyTorch"
   ]
  },
  {
   "cell_type": "code",
   "id": "bdd72946",
   "metadata": {},
   "source": [
    "#jak pobrać i zainstalować adekwatną wersję pytorcha (wraz z torchvision)?\n",
    "# pythorch.org"
   ],
   "outputs": [],
   "execution_count": null
  },
  {
   "cell_type": "code",
   "id": "fef79272",
   "metadata": {},
   "source": [
    "#sprawdzić wersję pytorch'a\n",
    "# !pip show torch\n",
    "# !pip show torchvision"
   ],
   "outputs": [],
   "execution_count": null
  },
  {
   "cell_type": "code",
   "id": "107cdb9a",
   "metadata": {},
   "source": [
    "#sprawdzić dostępność i wersję cuda w pytorchu\n"
   ],
   "outputs": [],
   "execution_count": null
  },
  {
   "cell_type": "code",
   "id": "3d9e0082",
   "metadata": {},
   "source": [
    "#sprawdzić dostępność cudnn w pytorchu\n"
   ],
   "outputs": [],
   "execution_count": null
  },
  {
   "cell_type": "code",
   "id": "5800ceb8",
   "metadata": {},
   "source": "#jak importować pytorcha w kodzie?",
   "outputs": [],
   "execution_count": null
  },
  {
   "cell_type": "markdown",
   "id": "6ce04379",
   "metadata": {},
   "source": [
    "## Google Colab"
   ]
  },
  {
   "cell_type": "code",
   "id": "f852057f",
   "metadata": {},
   "source": [
    "#jak prowadzić obliczenia na: CPU, GPU, TPU?\n"
   ],
   "outputs": [],
   "execution_count": null
  },
  {
   "cell_type": "code",
   "id": "192ab055",
   "metadata": {},
   "source": [
    "#wypisać wersję tensorflow\n",
    "\n",
    "#wybrać konkretną wersję tensorflow, np. 1.x, 2.x\n"
   ],
   "outputs": [],
   "execution_count": null
  },
  {
   "cell_type": "code",
   "id": "34e9ced4",
   "metadata": {},
   "source": [
    "#wybrać wersję tensorflow i sprawdzić czy jest podłączony GPU\n"
   ],
   "outputs": [],
   "execution_count": null
  }
 ],
 "metadata": {
  "kernelspec": {
   "display_name": "Python 3 (ipykernel)",
   "language": "python",
   "name": "python3"
  },
  "language_info": {
   "codemirror_mode": {
    "name": "ipython",
    "version": 3
   },
   "file_extension": ".py",
   "mimetype": "text/x-python",
   "name": "python",
   "nbconvert_exporter": "python",
   "pygments_lexer": "ipython3",
   "version": "3.10.11"
  }
 },
 "nbformat": 4,
 "nbformat_minor": 5
}
