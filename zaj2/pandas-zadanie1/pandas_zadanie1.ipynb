{
 "cells": [
  {
   "cell_type": "code",
   "execution_count": 4,
   "id": "a1d0061e",
   "metadata": {},
   "outputs": [],
   "source": [
    "import pandas as pd\n",
    "import numpy as np"
   ]
  },
  {
   "cell_type": "code",
   "execution_count": 8,
   "id": "bf900f5f",
   "metadata": {},
   "outputs": [],
   "source": [
    "#dany jest słownik\n",
    "data = {\"Name\": [\"Alice\", \"Bob\", \"Charlie\", \"Diana\", \"Ethan\"],\n",
    "        \"Age\": [25, 30, 35, 40, 28],\n",
    "        \"Salary\": [50000, 60000, 75000, 90000, 58000],\n",
    "        \"Department\": [\"HR\", \"IT\", \"IT\", \"Finance\", \"HR\"]}\n",
    "\n",
    "#utworzyć obiekt DataFrame\n",
    "df ="
   ]
  },
  {
   "cell_type": "code",
   "execution_count": null,
   "id": "7cc83da4",
   "metadata": {},
   "outputs": [],
   "source": [
    "#zrobić inspekcję df\n",
    "#wypisać kilka pierwszych lub ostatnich rekordów\n",
    "\n",
    "#podać kształt\n",
    "\n",
    "#wyliczyć podstawowe statystyki\n",
    "\n",
    "#wypisać informację o danych\n"
   ]
  },
  {
   "cell_type": "code",
   "execution_count": null,
   "id": "d693ef0b",
   "metadata": {},
   "outputs": [],
   "source": [
    "#wypisać następujące wiersze lub kolumny:\n",
    "#kolumnę \"Name\"\n",
    "\n",
    "#kolumny \"Age\" i \"Salary\"\n",
    "\n",
    "#wiersz drugi według etykiety i według indeksu\n"
   ]
  },
  {
   "cell_type": "code",
   "execution_count": null,
   "id": "5a289170",
   "metadata": {},
   "outputs": [],
   "source": [
    "#filtrowanie rekordów\n",
    "#wypisać dane przy warunku: \"Department\" == \"IT\"\n",
    "\n",
    "#wypisać pracowników zarabiających więcej niż 60.000\n"
   ]
  },
  {
   "cell_type": "code",
   "execution_count": null,
   "id": "2f58974e",
   "metadata": {},
   "outputs": [],
   "source": [
    "#tworzenie nowych kolumn\n",
    "#zrobić kolumnę \"Tax\" równą 20% wartości \"Salary\"\n",
    "\n",
    "#zrobić kolumnę \"Net Salary\" równą różnicy \"Salary\" i \"Tax\"\n"
   ]
  },
  {
   "cell_type": "code",
   "execution_count": null,
   "id": "2568f55a",
   "metadata": {},
   "outputs": [],
   "source": [
    "#grupowanie\n",
    "#wyliczyć średnie pensje w działach\n",
    "\n",
    "#zwizualizować średnie pensje w działach\n"
   ]
  },
  {
   "cell_type": "code",
   "execution_count": null,
   "id": "5e32d261",
   "metadata": {},
   "outputs": [],
   "source": [
    "#sortowanie\n",
    "#dane posortować malejąco po kolumnie \"Salary\"\n"
   ]
  },
  {
   "cell_type": "code",
   "execution_count": 10,
   "id": "e0359134",
   "metadata": {},
   "outputs": [],
   "source": [
    "#wstawić do rekordu drugiego w koluknie \"Age\" wartość np.NaN\n",
    "\n",
    "#sprawdzić, ile jest braków w każdej kolumnie\n",
    "\n",
    "#wypełnić tak powstały \"brak\" średnią wieku\n"
   ]
  },
  {
   "cell_type": "code",
   "execution_count": null,
   "id": "2a38f4e9",
   "metadata": {},
   "outputs": [],
   "source": [
    "#zapisać df w pliku csv\n"
   ]
  }
 ],
 "metadata": {
  "kernelspec": {
   "display_name": "Python 3 (ipykernel)",
   "language": "python",
   "name": "python3"
  },
  "language_info": {
   "codemirror_mode": {
    "name": "ipython",
    "version": 3
   },
   "file_extension": ".py",
   "mimetype": "text/x-python",
   "name": "python",
   "nbconvert_exporter": "python",
   "pygments_lexer": "ipython3",
   "version": "3.10.11"
  }
 },
 "nbformat": 4,
 "nbformat_minor": 5
}
