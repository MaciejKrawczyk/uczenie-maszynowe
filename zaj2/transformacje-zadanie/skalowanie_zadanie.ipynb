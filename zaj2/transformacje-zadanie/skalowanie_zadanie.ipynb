{
 "cells": [
  {
   "cell_type": "raw",
   "id": "d0636671",
   "metadata": {},
   "source": [
    "Co to jest skalowanie?\n",
    "Co to jest standaryzacja?\n",
    "Co to jest normalizacja?"
   ]
  },
  {
   "cell_type": "code",
   "execution_count": 3,
   "id": "93821e9c",
   "metadata": {},
   "outputs": [],
   "source": [
    "import numpy as np\n",
    "import pandas as pd"
   ]
  },
  {
   "cell_type": "code",
   "execution_count": null,
   "id": "163a09dc",
   "metadata": {},
   "outputs": [],
   "source": [
    "# Przygotować sobie jakiś mały zbiór (albo użyć dane2.csv) i wykonać na nim poniższe transformacje."
   ]
  },
  {
   "cell_type": "markdown",
   "id": "f13cea7d",
   "metadata": {},
   "source": [
    "### sklearn.preprocessing import MinMaxScaler"
   ]
  },
  {
   "cell_type": "code",
   "execution_count": 1,
   "id": "e2ab555e",
   "metadata": {
    "scrolled": true
   },
   "outputs": [],
   "source": [
    "from sklearn.preprocessing import MinMaxScaler\n",
    "#...\n"
   ]
  },
  {
   "cell_type": "markdown",
   "id": "25cc5e30",
   "metadata": {},
   "source": [
    "### sklearn.preprocessing import MaxAbsScaler"
   ]
  },
  {
   "cell_type": "code",
   "execution_count": 2,
   "id": "71f90d94",
   "metadata": {},
   "outputs": [],
   "source": [
    "from sklearn.preprocessing import MaxAbsScaler\n",
    "#...\n"
   ]
  },
  {
   "cell_type": "markdown",
   "id": "e4ac4eca",
   "metadata": {},
   "source": [
    "### sklearn.preprocessing.StandardScaler"
   ]
  },
  {
   "cell_type": "code",
   "execution_count": 3,
   "id": "325c96f6",
   "metadata": {},
   "outputs": [],
   "source": [
    "from sklearn.preprocessing import StandardScaler\n",
    "#...\n",
    "scaler = StandardScaler()\n",
    "\n",
    "# wypisać pola: mean_, scale_\n",
    "#..."
   ]
  },
  {
   "cell_type": "markdown",
   "id": "eddce0ef",
   "metadata": {},
   "source": [
    "### sklearn.preprocessing.Normalizer"
   ]
  },
  {
   "cell_type": "code",
   "execution_count": 4,
   "id": "4ef86695",
   "metadata": {
    "scrolled": true
   },
   "outputs": [],
   "source": [
    "from sklearn.preprocessing import Normalizer\n",
    "#...\n"
   ]
  },
  {
   "cell_type": "markdown",
   "id": "8569611f",
   "metadata": {},
   "source": [
    "### sklearn.preprocessing.normalize"
   ]
  },
  {
   "cell_type": "code",
   "execution_count": 5,
   "id": "71d7c2d7",
   "metadata": {},
   "outputs": [],
   "source": [
    "from sklearn.preprocessing import normalize\n",
    "#...\n"
   ]
  },
  {
   "cell_type": "markdown",
   "id": "e80f7d96",
   "metadata": {},
   "source": [
    "### mlxtend.preprocessing.minmax_scaling"
   ]
  },
  {
   "cell_type": "code",
   "execution_count": 6,
   "id": "f115e08c",
   "metadata": {},
   "outputs": [],
   "source": [
    "from mlxtend.preprocessing import minmax_scaling\n",
    "#...\n"
   ]
  },
  {
   "cell_type": "markdown",
   "id": "26274a53",
   "metadata": {},
   "source": [
    "### mlxtend.preprocessing.standardize"
   ]
  },
  {
   "cell_type": "code",
   "execution_count": 7,
   "id": "aa0ebad9",
   "metadata": {},
   "outputs": [],
   "source": [
    "from mlxtend.preprocessing import standardize\n",
    "#...\n"
   ]
  },
  {
   "cell_type": "markdown",
   "id": "05615d90",
   "metadata": {},
   "source": [
    "### mlxtend.preprocessing.MeanCenterer"
   ]
  },
  {
   "cell_type": "code",
   "execution_count": 8,
   "id": "c92fdfbb",
   "metadata": {},
   "outputs": [],
   "source": [
    "from mlxtend.preprocessing import MeanCenterer\n",
    "#...\n"
   ]
  },
  {
   "cell_type": "markdown",
   "id": "45d05e46",
   "metadata": {},
   "source": [
    "## Jak traktować dane testowe?\n",
    "\n",
    "Prawidłowym sposobem przygotowania nowych danych dla modelu jest zapisanie w pliku wraz z modelem\n",
    "wszelkich obiektów przygotowania danych, np. metod skalowania."
   ]
  },
  {
   "cell_type": "code",
   "execution_count": null,
   "id": "7b73288c",
   "metadata": {},
   "outputs": [],
   "source": [
    "#faza uczenia:\n",
    "\n",
    "from pickle import dump, load\n",
    "\n",
    "# wytworzyć jakieś dane\n",
    "#...\n",
    "\n",
    "# przeskalować dane treningowe\n",
    "#...\n",
    "scaler =\n",
    "\n",
    "# wyuczyć model na przeskalowanych danych\n",
    "# ...\n",
    "model = LogisticRegression(solver='lbfgs', max_iter=500)\n",
    "\n",
    "# zapis model\n",
    "dump(model, open('model.pkl', 'wb'))\n",
    "# zapis skaler\n",
    "dump(scaler, open('scaler.pkl', 'wb'))"
   ]
  },
  {
   "cell_type": "code",
   "execution_count": null,
   "id": "c5d3adbe",
   "metadata": {
    "scrolled": true
   },
   "outputs": [],
   "source": [
    "# faza testowania:\n",
    "\n",
    "# załadować model i skaler\n",
    "model = load(open('model.pkl', 'rb'))\n",
    "scaler = load(open('scaler.pkl', 'rb'))\n",
    "\n",
    "# przeskalować dane testowe\n",
    "#...\n",
    "\n",
    "# zrobić predykcję na zbiorze testowym i wypisać jakąś metrykę\n",
    "#..."
   ]
  },
  {
   "cell_type": "markdown",
   "id": "37039d6d",
   "metadata": {},
   "source": [
    "## Wpływ skalowania"
   ]
  },
  {
   "cell_type": "code",
   "execution_count": 27,
   "id": "0e179b49",
   "metadata": {},
   "outputs": [],
   "source": [
    "# Pokazać dla przykładowych danych (propozycja poniżej) efekty transformacji na wydajność modelu"
   ]
  },
  {
   "cell_type": "code",
   "execution_count": 2,
   "id": "5cec2c58",
   "metadata": {},
   "outputs": [],
   "source": [
    "from sklearn.datasets import load_breast_cancer\n",
    "cancer = load_breast_cancer()\n",
    "X = cancer.data\n",
    "y = cancer.target\n",
    "X_train, X_test, y_train, y_test = train_test_split(X, y, random_state=5)"
   ]
  },
  {
   "cell_type": "code",
   "execution_count": 28,
   "id": "7768025b",
   "metadata": {},
   "outputs": [],
   "source": [
    "from sklearn.datasets import load_wine\n",
    "wine = load_wine()\n",
    "X = wine.data\n",
    "y = wine.target\n",
    "X_train, X_test, y_train, y_test = train_test_split(X, y, random_state=5)"
   ]
  },
  {
   "cell_type": "code",
   "execution_count": 9,
   "id": "2b31650e",
   "metadata": {},
   "outputs": [],
   "source": [
    "# model bez transformacji\n",
    "#...\n"
   ]
  },
  {
   "cell_type": "code",
   "execution_count": 10,
   "id": "f4ae6bd8",
   "metadata": {},
   "outputs": [],
   "source": [
    "# model na przetransformowanych danych\n",
    "#..."
   ]
  }
 ],
 "metadata": {
  "kernelspec": {
   "display_name": "Python 3 (ipykernel)",
   "language": "python",
   "name": "python3"
  },
  "language_info": {
   "codemirror_mode": {
    "name": "ipython",
    "version": 3
   },
   "file_extension": ".py",
   "mimetype": "text/x-python",
   "name": "python",
   "nbconvert_exporter": "python",
   "pygments_lexer": "ipython3",
   "version": "3.10.11"
  }
 },
 "nbformat": 4,
 "nbformat_minor": 5
}
