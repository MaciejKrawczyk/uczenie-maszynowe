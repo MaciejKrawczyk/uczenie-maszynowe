{
 "cells": [
  {
   "cell_type": "code",
   "execution_count": 2,
   "id": "05b6d763",
   "metadata": {},
   "outputs": [],
   "source": [
    "import pandas as pd\n",
    "import numpy as np"
   ]
  },
  {
   "cell_type": "markdown",
   "id": "a7432948",
   "metadata": {},
   "source": [
    "### pandas.get_dummies()"
   ]
  },
  {
   "cell_type": "code",
   "execution_count": 4,
   "id": "f7187666",
   "metadata": {
    "scrolled": true
   },
   "outputs": [],
   "source": [
    "# Pokazać jak działa ta metoda i objaśnić flagi: prefix, drop_first\n"
   ]
  },
  {
   "cell_type": "code",
   "execution_count": 3,
   "id": "c36ed3e0",
   "metadata": {
    "scrolled": false
   },
   "outputs": [],
   "source": [
    "# przykładowe dane\n",
    "df = pd.DataFrame({\n",
    "    'kolor': ['czerwony', 'niebieski', 'zielony', 'czerwony', 'niebieski'],\n",
    "    'rozmiar': ['S', 'M', 'L', 'XL', 'M'],\n",
    "    'cena': [10, 20, 15, 25, 30]})"
   ]
  },
  {
   "cell_type": "code",
   "execution_count": null,
   "id": "000b4a29",
   "metadata": {},
   "outputs": [],
   "source": [
    "#..."
   ]
  },
  {
   "cell_type": "code",
   "execution_count": 5,
   "id": "03b42c51",
   "metadata": {},
   "outputs": [],
   "source": [
    "# teraz dodać brakującą wartość\n",
    "df.loc[2, 'kolor'] = None  #ew. np.nan"
   ]
  },
  {
   "cell_type": "code",
   "execution_count": 6,
   "id": "c5c41fde",
   "metadata": {},
   "outputs": [],
   "source": [
    "# I sprawdzić bez i z flagą dummy_na=True\n",
    "#..."
   ]
  },
  {
   "cell_type": "code",
   "execution_count": null,
   "id": "6446ee4b",
   "metadata": {},
   "outputs": [],
   "source": [
    "# Za pomocą get_dummies() zakodować klasy zbioru 'Iris'\n",
    "iris = pd.read_csv('https://raw.githubusercontent.com/mwaskom/seaborn-data/master/iris.csv')\n",
    "iris.species\n",
    "#..."
   ]
  },
  {
   "cell_type": "markdown",
   "id": "7bc52ca9",
   "metadata": {},
   "source": [
    "### sklearn.preprocessing.OrdinalEncoder"
   ]
  },
  {
   "cell_type": "code",
   "execution_count": 9,
   "id": "b6119c06",
   "metadata": {},
   "outputs": [],
   "source": [
    "# Wziąć dowolne dane i pokazać działanie OrdinalEncoder\n",
    "\n",
    "from sklearn.preprocessing import OrdinalEncoder\n",
    "#..."
   ]
  },
  {
   "cell_type": "markdown",
   "id": "52d8cde2",
   "metadata": {},
   "source": [
    "### sklearn.preprocessingLabelEncoder"
   ]
  },
  {
   "cell_type": "code",
   "execution_count": 10,
   "id": "4cae9995",
   "metadata": {
    "scrolled": false
   },
   "outputs": [],
   "source": [
    "# Wziąć dowolne dane i pokazać działanie LabelEncoder (wymaga danych o kształcie: '(n,)' )\n",
    "\n",
    "from sklearn.preprocessing import LabelEncoder\n",
    "#..."
   ]
  },
  {
   "cell_type": "code",
   "execution_count": 11,
   "id": "7eb88720",
   "metadata": {},
   "outputs": [],
   "source": [
    "# Wypróbować metodę: inverse_transform() zwracającą oryginalnie zakodowane dane \n",
    "#..."
   ]
  },
  {
   "cell_type": "markdown",
   "id": "11587a81",
   "metadata": {},
   "source": [
    "### sklearn.preprocessing.LabelBinarizer"
   ]
  },
  {
   "cell_type": "code",
   "execution_count": 12,
   "id": "099e1e1f",
   "metadata": {
    "scrolled": false
   },
   "outputs": [],
   "source": [
    "# Wziąć dowolne dane i pokazać działanie LabelBinarizer\n",
    "\n",
    "from sklearn.preprocessing import LabelBinarizer\n",
    "#..."
   ]
  },
  {
   "cell_type": "markdown",
   "id": "0fda2e1c",
   "metadata": {},
   "source": [
    "### sklearn.feature_extraction.DictVectorizer"
   ]
  },
  {
   "cell_type": "code",
   "execution_count": 13,
   "id": "6229a0da",
   "metadata": {},
   "outputs": [],
   "source": [
    "# Wziąć dowolne dane i pokazać działanie DictVectorizer\n",
    "\n",
    "from sklearn.feature_extraction import DictVectorizer\n",
    "#..."
   ]
  },
  {
   "cell_type": "markdown",
   "id": "9e0730fe",
   "metadata": {},
   "source": [
    "### sklearn.preprocessing.OneHotEncoder"
   ]
  },
  {
   "cell_type": "code",
   "execution_count": 14,
   "id": "0dffcdb3",
   "metadata": {},
   "outputs": [],
   "source": [
    "# Wziąć dowolne dane i pokazać działanie OneHotEncoder uwzględniając parametry:\n",
    "#  num_labels, handle_unknown, drop\n",
    "\n",
    "from sklearn.preprocessing import OneHotEncoder\n",
    "#..."
   ]
  },
  {
   "cell_type": "markdown",
   "id": "bf710568",
   "metadata": {},
   "source": [
    "### mlxtend.preprocessing.one_hot"
   ]
  },
  {
   "cell_type": "code",
   "execution_count": 15,
   "id": "92d9bbda",
   "metadata": {},
   "outputs": [],
   "source": [
    "# Wziąć dowolne dane i pokazać działanie\n",
    "\n",
    "from mlxtend.preprocessing import one_hot\n",
    "#..."
   ]
  }
 ],
 "metadata": {
  "kernelspec": {
   "display_name": "Python 3 (ipykernel)",
   "language": "python",
   "name": "python3"
  },
  "language_info": {
   "codemirror_mode": {
    "name": "ipython",
    "version": 3
   },
   "file_extension": ".py",
   "mimetype": "text/x-python",
   "name": "python",
   "nbconvert_exporter": "python",
   "pygments_lexer": "ipython3",
   "version": "3.10.11"
  }
 },
 "nbformat": 4,
 "nbformat_minor": 5
}
