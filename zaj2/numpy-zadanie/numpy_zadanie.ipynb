{
 "cells": [
  {
   "cell_type": "code",
   "execution_count": 3,
   "id": "71864f58",
   "metadata": {},
   "outputs": [],
   "source": [
    "import numpy as np"
   ]
  },
  {
   "cell_type": "markdown",
   "id": "f465f6d5",
   "metadata": {},
   "source": [
    "### tworzenie macierzy"
   ]
  },
  {
   "cell_type": "code",
   "execution_count": null,
   "id": "7baa9518",
   "metadata": {
    "scrolled": false
   },
   "outputs": [],
   "source": [
    "#utworzyć obiekty wielowymiarowe:\n",
    "A=np.array(...)\n",
    "A=np.ones(...)\n",
    "A=np.zeros(...)\n",
    "A=np.eye(...)\n",
    "A=np.full(...)\n",
    "A=np.empty(...)\n",
    "\n",
    "#utworzyć obiekty jednowymiarowe:\n",
    "A=np.arange(...)\n",
    "A=np.linspace(...)\n",
    "\n",
    "print(A)"
   ]
  },
  {
   "cell_type": "code",
   "execution_count": 5,
   "id": "d50707f1",
   "metadata": {},
   "outputs": [],
   "source": [
    "#czy przy tworzeniu tablicy istnieje możliwość zadeklarowania jej typu?\n"
   ]
  },
  {
   "cell_type": "code",
   "execution_count": null,
   "id": "3e1f652c",
   "metadata": {
    "scrolled": true
   },
   "outputs": [],
   "source": [
    "#utworzyć macierz, której kolejne elementy zwracane są przez funkcję \n",
    "def f(...):\n",
    "    ...\n",
    "    return ...\n",
    "A = np.fromfunction(...)"
   ]
  },
  {
   "cell_type": "markdown",
   "id": "209ed957",
   "metadata": {},
   "source": [
    "### zmiana kształtu (reshaping)"
   ]
  },
  {
   "cell_type": "code",
   "execution_count": 6,
   "id": "67fa12e4",
   "metadata": {
    "scrolled": true
   },
   "outputs": [],
   "source": [
    "A = np.arange(20)\n",
    "#zademonstrować funkcje:\n",
    "#reshape()\n",
    "\n",
    "#transpose() = .T\n",
    "\n",
    "#swapaxes()\n"
   ]
  },
  {
   "cell_type": "code",
   "execution_count": 7,
   "id": "392d27f7",
   "metadata": {},
   "outputs": [],
   "source": [
    "#macierz zwężyć do jednego wymiaru:\n",
    "#za pomocą reshape()\n",
    "\n",
    "#za pomocą ravel()\n"
   ]
  },
  {
   "cell_type": "markdown",
   "id": "cf8ca4ed",
   "metadata": {},
   "source": [
    "### łączenie tablic"
   ]
  },
  {
   "cell_type": "code",
   "execution_count": 245,
   "id": "7b8fa114",
   "metadata": {},
   "outputs": [],
   "source": [
    "A = np.array([[1, 2], [3, 4]])\n",
    "B = np.array([[5, 6]])\n",
    "\n",
    "#połączyć macierze A i B pionowo (jedna nad drugą):\n",
    "#concatenate()\n",
    "\n",
    "#vstack()\n",
    "\n",
    "#połączyć macierze A i B poziomow (jedna obok drugiej):\n",
    "#concatenate()\n",
    "\n",
    "#hstack()\n",
    "\n",
    "#połączyć macierze A i B wzdłuż nowej (trzeciej) osi\n",
    "#stack()\n"
   ]
  },
  {
   "cell_type": "markdown",
   "id": "4e75cca2",
   "metadata": {},
   "source": [
    "### dzielenie tablic"
   ]
  },
  {
   "cell_type": "code",
   "execution_count": 9,
   "id": "5ee3cdef",
   "metadata": {
    "scrolled": true
   },
   "outputs": [],
   "source": [
    "C = np.arange(24).reshape(6,4)\n",
    "\n",
    "#podzielić macierz C na trzy tablice w pionie:\n",
    "#vsplit()\n",
    "\n",
    "#podzielić macierz C na dwie tablice w poziomie:\n",
    "#hsplit()\n"
   ]
  },
  {
   "cell_type": "markdown",
   "id": "99151d55",
   "metadata": {},
   "source": [
    "### slicing (indeksowanie następuje od zera)"
   ]
  },
  {
   "cell_type": "code",
   "execution_count": 10,
   "id": "1c87a451",
   "metadata": {
    "scrolled": true
   },
   "outputs": [],
   "source": [
    "A = np.arange(20).reshape(5,4)\n",
    "\n",
    "#z macierzy A wypisać:\n",
    "# wszystkie wiersze, kolumnę ostatnią, kolumnę 2, jeszcze raz kolumnę ostatnią\n",
    "\n",
    "#za pomocą indeksów wyprodukować: array([18,  9, 16, 11])\n"
   ]
  },
  {
   "cell_type": "code",
   "execution_count": 11,
   "id": "c1b0be67",
   "metadata": {},
   "outputs": [],
   "source": [
    "#dać przykład użycia trzech kropek ... podczas indeksacji\n",
    "#co to oznacza i jak się nazywa?\n"
   ]
  },
  {
   "cell_type": "code",
   "execution_count": 12,
   "id": "ec5505db",
   "metadata": {},
   "outputs": [],
   "source": [
    "A = np.arange(20).reshape(5,4)\n",
    "#wykroić warstwę o kształcie: (4,)\n",
    "\n",
    "#wykroić warstwę o kształcie: (1, 4)\n"
   ]
  },
  {
   "cell_type": "markdown",
   "id": "486bf3b9",
   "metadata": {},
   "source": [
    "### pola klasy ndarray"
   ]
  },
  {
   "cell_type": "code",
   "execution_count": 13,
   "id": "75c33438",
   "metadata": {},
   "outputs": [],
   "source": [
    "A = np.arange(20).reshape(5,4)\n",
    "\n",
    "#jak wyznaczyć:\n",
    "#rozmiar=liczbę elementów macierzy\n",
    "\n",
    "#kształt macierzy\n",
    "\n",
    "#wymiarowość macierzy\n",
    "\n",
    "#typ elementów macierzy\n",
    "\n",
    "#długość w bajtach elementów macierzy\n"
   ]
  },
  {
   "cell_type": "markdown",
   "id": "5e3fccc6",
   "metadata": {},
   "source": [
    "### operacje arytmetyczne"
   ]
  },
  {
   "cell_type": "code",
   "execution_count": 14,
   "id": "7e6aae54",
   "metadata": {},
   "outputs": [],
   "source": [
    "A = np.array([[1,1,1,1,1],[2,2,2,2,2]])\n",
    "B = np.arange(5)  #array([0, 1, 2, 3, 4])\n",
    "v = np.array([1,2,3,4,5])\n",
    "\n",
    "#sprawdzić operacje arytmetyczne pomiędzy A, B, v i stałą\n",
    "#+, add()\n",
    "\n",
    "#-, subtract()\n",
    "\n",
    "#* (iloczyn Hadamard'a)\n",
    "\n",
    "#/\n",
    "\n",
    "#//\n",
    "\n",
    "#% (reszta)\n",
    "\n",
    "#**, power() (potęga)\n",
    "\n",
    "#jak nazywa się właściwość, która pozwala na np: A+10, A+v, A*v\n"
   ]
  },
  {
   "cell_type": "code",
   "execution_count": 15,
   "id": "23712cef",
   "metadata": {},
   "outputs": [],
   "source": [
    "#mnożenie macierzowe\n",
    "#utworzyć dwie macierze i zademonstrować operatory:\n",
    "\n",
    "#@\n",
    "\n",
    "#dot()\n",
    "\n",
    "#przy jakich definicjach macierzy możliwe jest mnożenie macierzowe\n",
    "#za pomocą operatora *?\n"
   ]
  },
  {
   "cell_type": "markdown",
   "id": "52f2f742",
   "metadata": {},
   "source": [
    "### porównywanie elementów tablic"
   ]
  },
  {
   "cell_type": "code",
   "execution_count": 16,
   "id": "69b0a6d3",
   "metadata": {},
   "outputs": [],
   "source": [
    "A = np.arange(20).reshape(5,4)\n",
    "B = np.linspace(0,10,20).reshape(5,4)\n",
    "\n",
    "#sprawdzić, które elementy macierzy A są równe 9 (mniejsze od 12)\n",
    "\n",
    "#sprawdzić, czy istnieje co najmniej jeden element, który spełnia warunek\n",
    "\n",
    "#sprawdzić, czy każdy element macierzy spełnia warunek\n",
    "\n",
    "#sprawdzić, które elementy macierzy A są większe od elementów macierzy B\n"
   ]
  },
  {
   "cell_type": "markdown",
   "id": "1bed7a04",
   "metadata": {},
   "source": [
    "### algebra liniowa"
   ]
  },
  {
   "cell_type": "code",
   "execution_count": 308,
   "id": "0c7d45c9",
   "metadata": {},
   "outputs": [],
   "source": [
    "import numpy.linalg as alg\n",
    "A = np.array([[1., 2.], [3., 4.]])"
   ]
  },
  {
   "cell_type": "code",
   "execution_count": 17,
   "id": "4ea14500",
   "metadata": {},
   "outputs": [],
   "source": [
    "#wyliczyć macierz odwrotną (i sprawdzić)\n"
   ]
  },
  {
   "cell_type": "code",
   "execution_count": 18,
   "id": "f7ff8aa2",
   "metadata": {},
   "outputs": [],
   "source": [
    "#obliczyć wyznacznik macierzy\n"
   ]
  },
  {
   "cell_type": "code",
   "execution_count": 22,
   "id": "dcd8ebe1",
   "metadata": {},
   "outputs": [],
   "source": [
    "#podać macierze Q i R dekompozycji QR (A=Q.dot(R))\n"
   ]
  },
  {
   "cell_type": "code",
   "execution_count": 19,
   "id": "571e020e",
   "metadata": {},
   "outputs": [],
   "source": [
    "#podać ślad macierzy\n"
   ]
  },
  {
   "cell_type": "code",
   "execution_count": 20,
   "id": "b5fd4027",
   "metadata": {},
   "outputs": [],
   "source": [
    "#wypisać elementy diagonalne macierzy\n"
   ]
  },
  {
   "cell_type": "code",
   "execution_count": 21,
   "id": "030a882d",
   "metadata": {},
   "outputs": [],
   "source": [
    "#obliczyć normę Euklidesową macierzy, sprawdzić działanie parametru axis\n"
   ]
  },
  {
   "cell_type": "code",
   "execution_count": 23,
   "id": "77edaeb4",
   "metadata": {},
   "outputs": [],
   "source": [
    "#rozwiązać układ równań\n",
    "# 4*x1 + x2 = 10\n",
    "# 3*x1 = 7\n"
   ]
  },
  {
   "cell_type": "code",
   "execution_count": 310,
   "id": "bf723672",
   "metadata": {},
   "outputs": [],
   "source": [
    "#podać wartości i wektory własne macierzy A\n"
   ]
  },
  {
   "cell_type": "code",
   "execution_count": 24,
   "id": "7e7a0064",
   "metadata": {},
   "outputs": [],
   "source": [
    "#dokonać dekompozycji SVD macierzy B na kompleks U.Σ.V (.=dot)\n",
    "B = np.array([[1,0,0,0,2], [0,0,3,0,0], [0,0,0,0,0], [0,2,0,0,0]])\n"
   ]
  },
  {
   "cell_type": "markdown",
   "id": "8c9f8717",
   "metadata": {},
   "source": [
    "### macierze losowe"
   ]
  },
  {
   "cell_type": "code",
   "execution_count": 25,
   "id": "a66a355f",
   "metadata": {},
   "outputs": [],
   "source": [
    "#wypisać macierz 3x2 z elementami losowymi:\n",
    "\n",
    "#całkowitymi wybranymi z przedziału [0, 5)\n",
    "\n",
    "#jednorodnymi z przedziału [0,1)\n",
    "\n",
    "#o rozkładzie normalnym N(1,4)\n"
   ]
  },
  {
   "cell_type": "markdown",
   "id": "30f6459b",
   "metadata": {},
   "source": [
    "### funkcje statystyczne"
   ]
  },
  {
   "cell_type": "code",
   "execution_count": 26,
   "id": "70647ebe",
   "metadata": {},
   "outputs": [],
   "source": [
    "x = np.random.normal(2.0, 2.5, size=(3,2))\n",
    "\n",
    "#zademonstrować działanie funkcji: max(), min(), sum(), prod(),\n",
    "# mean(), median(), var(), std()\n",
    "#uwzględnić parametr \"axis\"\n"
   ]
  },
  {
   "cell_type": "markdown",
   "id": "256da0f7",
   "metadata": {},
   "source": [
    "### funkcje uniwersalne"
   ]
  },
  {
   "cell_type": "code",
   "execution_count": null,
   "id": "3f7e3cc2",
   "metadata": {},
   "outputs": [],
   "source": [
    "#np.abs, np.sqrt, np.exp, np.log, np.sign, np.ceil, np.modf,\n",
    "#np.isnan, np.cos, np.square, np.maximum, np.unique"
   ]
  },
  {
   "cell_type": "code",
   "execution_count": 27,
   "id": "94d531d4",
   "metadata": {},
   "outputs": [],
   "source": [
    "A = np.array([[-2.5, 3.1, 7], [10, 11, 12]])\n",
    "B = A+1\n",
    "#zademonstrować działanie uniwersalnych funkcji: abs(), sqrt(), exp(),\n",
    "# log(), sign(), ceil(), modf(), isnan(), cos(), square(), unique()\n"
   ]
  },
  {
   "cell_type": "markdown",
   "id": "1df5c60e",
   "metadata": {},
   "source": [
    "### grafika"
   ]
  },
  {
   "cell_type": "code",
   "execution_count": 28,
   "id": "a9b97f89",
   "metadata": {},
   "outputs": [],
   "source": [
    "#narysować wykres funkcji sin(x) dla x in [0,2*Pi]\n"
   ]
  },
  {
   "cell_type": "markdown",
   "id": "d06d2a8c",
   "metadata": {},
   "source": [
    "### broadcasting"
   ]
  },
  {
   "cell_type": "code",
   "execution_count": 29,
   "id": "368b2660",
   "metadata": {},
   "outputs": [],
   "source": [
    "A = np.arange(5).reshape(1, 1, 5)\n",
    "#utworzyć macierz B o kształcie (5,) i wykonać: A+B\n"
   ]
  },
  {
   "cell_type": "code",
   "execution_count": 30,
   "id": "89289fe2",
   "metadata": {},
   "outputs": [],
   "source": [
    "A = np.arange(6).reshape(2, 3)\n",
    "#utworzyć macierz B o kształcie (2,1) i wykonać: A+B\n"
   ]
  },
  {
   "cell_type": "code",
   "execution_count": 32,
   "id": "56e60987",
   "metadata": {},
   "outputs": [],
   "source": [
    "#wykonać:\n",
    "#A + [100, 200, 300]\n",
    "\n",
    "#A+1000\n"
   ]
  },
  {
   "cell_type": "code",
   "execution_count": 34,
   "id": "debdfbe8",
   "metadata": {},
   "outputs": [],
   "source": [
    "#na podstawie powyższych działań wyjaśnić jakie są reguły broadcastingu"
   ]
  },
  {
   "cell_type": "code",
   "execution_count": 35,
   "id": "707f8aa9",
   "metadata": {},
   "outputs": [],
   "source": [
    "A = np.arange(0, 5, dtype=np.uint8)\n",
    "C = A + 1.5\n",
    "#jaki będzie typ elementów macierzy C i jak nazywa się czynność\n",
    "# zmiany typu"
   ]
  },
  {
   "cell_type": "markdown",
   "id": "27d5aa92",
   "metadata": {},
   "source": [
    "### numpy.array() i lista pythonowa [ ]: różnice"
   ]
  },
  {
   "cell_type": "code",
   "execution_count": null,
   "id": "ea145dfb",
   "metadata": {},
   "outputs": [],
   "source": [
    "A = np.array([1,2,3,4,5,6])\n",
    "B = [1,2,3,4,5,6]\n",
    "#którą macierzą jest X (A czy B) jeśli wykonuje się:\n",
    "#X[2:5] = -1\n",
    "\n",
    "#X[2:5] = [1,2,3,4,5,6]\n",
    "\n",
    "#del X[2:5]\n"
   ]
  },
  {
   "cell_type": "code",
   "execution_count": null,
   "id": "511d9791",
   "metadata": {},
   "outputs": [],
   "source": [
    "#którą macierzą (A czy B) jest X jeśli:\n",
    "#zmiana widoku (slice) zmienia macierz\n",
    "\n",
    "#slice = X[2:6]\n",
    "#slice[1] = 2000\n",
    "#X\n",
    "\n",
    "#zmiana macierzy zmienia widok (slice)\n",
    "\n",
    "#X[3] = 3000\n",
    "#slice"
   ]
  }
 ],
 "metadata": {
  "kernelspec": {
   "display_name": "Python 3 (ipykernel)",
   "language": "python",
   "name": "python3"
  },
  "language_info": {
   "codemirror_mode": {
    "name": "ipython",
    "version": 3
   },
   "file_extension": ".py",
   "mimetype": "text/x-python",
   "name": "python",
   "nbconvert_exporter": "python",
   "pygments_lexer": "ipython3",
   "version": "3.10.11"
  }
 },
 "nbformat": 4,
 "nbformat_minor": 5
}
