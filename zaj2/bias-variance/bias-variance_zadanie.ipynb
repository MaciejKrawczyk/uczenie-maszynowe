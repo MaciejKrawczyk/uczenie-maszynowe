{
 "cells": [
  {
   "attachments": {},
   "cell_type": "markdown",
   "id": "efb5f8f1",
   "metadata": {},
   "source": [
    "Kompromis obciążenie-wariancja jest przydatny do zrozumienia:\n",
    "* uczenia i wydajności modelu\n",
    "* niedouczenia i przeuczenia (\"wysoka wariancja\" ~ przeuczenie, \"wysokie obciążenie\" ~ niedouczenie)\n",
    "\n",
    "Wyprowadzenie: patrz wykład \"BIAS-VARIANCE TRADEOFF\""
   ]
  },
  {
   "cell_type": "code",
   "execution_count": 1,
   "id": "0014510a",
   "metadata": {},
   "outputs": [],
   "source": [
    "# Korzystając z biblioteki mlxtend wyliczyć: obciążenie i wariancję dla kilku klasyfikatorów\n",
    "# i regresorów i porównać pomiędzy sobą\n",
    "\n",
    "from mlxtend.evaluate import bias_variance_decomp\n",
    "#...\n"
   ]
  },
  {
   "cell_type": "code",
   "execution_count": null,
   "id": "7072602e",
   "metadata": {},
   "outputs": [],
   "source": [
    "# Porównać obciążenie i wariancję dla danego pojedynczego modelu oraz zespółu (ensemblu)\n",
    "# takich modeli. Przykładowo można użyć metody \"bagging\"\n",
    "\n",
    "from mlxtend.evaluate import bias_variance_decomp\n",
    "from sklearn.ensemble import BaggingClassifier\n",
    "#...\n"
   ]
  }
 ],
 "metadata": {
  "kernelspec": {
   "display_name": "Python 3 (ipykernel)",
   "language": "python",
   "name": "python3"
  },
  "language_info": {
   "codemirror_mode": {
    "name": "ipython",
    "version": 3
   },
   "file_extension": ".py",
   "mimetype": "text/x-python",
   "name": "python",
   "nbconvert_exporter": "python",
   "pygments_lexer": "ipython3",
   "version": "3.10.11"
  }
 },
 "nbformat": 4,
 "nbformat_minor": 5
}
