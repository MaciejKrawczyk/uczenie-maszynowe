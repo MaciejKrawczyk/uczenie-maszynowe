{
 "cells": [
  {
   "cell_type": "code",
   "execution_count": null,
   "id": "85d6b137",
   "metadata": {},
   "outputs": [],
   "source": [
    "#dla przykładowego klasyfikatora i zaproponowanych danych zrobić schemat uczenia:\n",
    "#  podział danych\n",
    "#  uczenie modelu (model.fit())\n",
    "#  ewaluacja modelu (accuracy_score)\n",
    "\n",
    "#w ramach podziału danych zastosować kolejno klasy:\n",
    "#train_test_split, StratifiedShuffleSplit, KFold, StratifiedKFold, LeaveOneOut"
   ]
  },
  {
   "cell_type": "code",
   "execution_count": 4,
   "id": "fdd18c18",
   "metadata": {},
   "outputs": [],
   "source": [
    "from sklearn.model_selection import train_test_split, StratifiedShuffleSplit, KFold, \\\n",
    "                            StratifiedKFold, LeaveOneOut\n",
    "from sklearn.metrics import accuracy_score"
   ]
  },
  {
   "cell_type": "code",
   "execution_count": 5,
   "id": "67d9413b",
   "metadata": {},
   "outputs": [],
   "source": [
    "# dane\n",
    "from sklearn.datasets import make_classification\n",
    "X, y = make_classification(n_samples=1000, n_features=2, n_informative=2,\n",
    "                           n_redundant=0, n_clusters_per_class=1, random_state=42)"
   ]
  },
  {
   "cell_type": "code",
   "execution_count": 1,
   "id": "860f7153",
   "metadata": {
    "scrolled": true
   },
   "outputs": [],
   "source": [
    "# HOLDOUT SPLIT (losowy podział na zbiór treningowy i testowy, standardowo 70%-30%)\n"
   ]
  },
  {
   "cell_type": "code",
   "execution_count": 2,
   "id": "9fa50dbc",
   "metadata": {
    "scrolled": true
   },
   "outputs": [],
   "source": [
    "# STRATIFIED SPLIT (zachowuje proporcje klas w zbiorach)\n"
   ]
  },
  {
   "cell_type": "code",
   "execution_count": 3,
   "id": "f5d0a44a",
   "metadata": {},
   "outputs": [],
   "source": [
    "# K-FOLD CV (podział na k części, gdzie każda część jest raz zbiorem testowym)\n"
   ]
  },
  {
   "cell_type": "code",
   "execution_count": 4,
   "id": "676f2655",
   "metadata": {},
   "outputs": [],
   "source": [
    "# STRATIFIED K-FOLD CV (jak K-fold, ale zachowuje proporcje klas w każdym foldzie)\n"
   ]
  },
  {
   "cell_type": "code",
   "execution_count": 5,
   "id": "2ab61466",
   "metadata": {},
   "outputs": [],
   "source": [
    "# 5: LEAVE-ONE-OUT (K-FOLD CV, K= #X)\n"
   ]
  }
 ],
 "metadata": {
  "kernelspec": {
   "display_name": "Python 3 (ipykernel)",
   "language": "python",
   "name": "python3"
  },
  "language_info": {
   "codemirror_mode": {
    "name": "ipython",
    "version": 3
   },
   "file_extension": ".py",
   "mimetype": "text/x-python",
   "name": "python",
   "nbconvert_exporter": "python",
   "pygments_lexer": "ipython3",
   "version": "3.10.11"
  }
 },
 "nbformat": 4,
 "nbformat_minor": 5
}
