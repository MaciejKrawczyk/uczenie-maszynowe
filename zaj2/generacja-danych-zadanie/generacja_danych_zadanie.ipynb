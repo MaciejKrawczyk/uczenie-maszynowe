{
 "cells": [
  {
   "cell_type": "markdown",
   "id": "eafbab8a",
   "metadata": {},
   "source": [
    "## dla każdej z poniższych klas poznać znaczenie pól i odpowiednio użyć"
   ]
  },
  {
   "cell_type": "markdown",
   "id": "d7ff4701",
   "metadata": {},
   "source": [
    "### sklearn.datasets.make_blobs"
   ]
  },
  {
   "cell_type": "code",
   "execution_count": null,
   "id": "29a5a323",
   "metadata": {},
   "outputs": [],
   "source": [
    "#wygenerować i zwizualizować zbiór o własnościach: 100 próbek, 3 klastry, 2 cechy\n",
    "\n",
    "from sklearn.datasets import make_blobs\n",
    "#.."
   ]
  },
  {
   "cell_type": "code",
   "execution_count": 1,
   "id": "98d90be9",
   "metadata": {},
   "outputs": [],
   "source": [
    "#wygenerować i zwizualizować 3D zbiór o własnościach: 4 klasy próbek o licznościach \n",
    "# [500, 200, 200, 100], 3 cechy, odchylenie standardowe klastra = 2.5\n",
    "#zapisać do pliku blobs.cvs\n"
   ]
  },
  {
   "cell_type": "markdown",
   "id": "0b345b0a",
   "metadata": {},
   "source": [
    "### sklearn.datasets.make_classification"
   ]
  },
  {
   "cell_type": "code",
   "execution_count": null,
   "id": "7af68968",
   "metadata": {},
   "outputs": [],
   "source": [
    "#wygenerować i zwizualizować zbiór o polach: n_features = 2, n_redundant = 0, \n",
    "#n_informative = 1, n_clusters_per_class = 1\n",
    "#jakie jest znaczenie tych pól?\n",
    "\n",
    "from sklearn.datasets import make_classification\n",
    "#.."
   ]
  },
  {
   "cell_type": "markdown",
   "id": "a7b36cdf",
   "metadata": {},
   "source": [
    "### sklearn.datasets.make_multilabel_classification"
   ]
  },
  {
   "cell_type": "code",
   "execution_count": null,
   "id": "41cb1190",
   "metadata": {},
   "outputs": [],
   "source": [
    "#podać przykład zbioru wieloetykietowego\n",
    "\n",
    "from sklearn.datasets import make_multilabel_classification\n",
    "#.."
   ]
  },
  {
   "cell_type": "markdown",
   "id": "12436e7e",
   "metadata": {},
   "source": [
    "### sklearn.datasets.make_regression"
   ]
  },
  {
   "cell_type": "code",
   "execution_count": 2,
   "id": "26342264",
   "metadata": {
    "scrolled": true
   },
   "outputs": [],
   "source": [
    "#utworzyć i zwizualizować zbiór danych do regresji o wartościach pól:\n",
    "#n_samples=100, n_features=1, noise=0.1)\n",
    "\n",
    "from sklearn.datasets import make_regression\n",
    "#.."
   ]
  },
  {
   "cell_type": "markdown",
   "id": "fc96b143",
   "metadata": {},
   "source": [
    "### sklearn.datasets.make_gaussian_quantiles"
   ]
  },
  {
   "cell_type": "code",
   "execution_count": 28,
   "id": "06873947",
   "metadata": {},
   "outputs": [],
   "source": [
    "#podać przykład generacji dowolnego zbioru\n",
    "\n",
    "from sklearn.datasets import make_gaussian_quantiles\n",
    "#.."
   ]
  },
  {
   "cell_type": "markdown",
   "id": "d43b0b70",
   "metadata": {},
   "source": [
    "### sklearn.datasets.make_s_curve"
   ]
  },
  {
   "cell_type": "code",
   "execution_count": 2,
   "id": "d2f43626",
   "metadata": {},
   "outputs": [],
   "source": [
    "#wygenerować i zwizualizować przykładowy szereg czasowy\n",
    "\n",
    "from sklearn.datasets import make_s_curve\n",
    "#.."
   ]
  },
  {
   "cell_type": "markdown",
   "id": "93f6230f",
   "metadata": {},
   "source": [
    "### sklearn.datasets.make_moons"
   ]
  },
  {
   "cell_type": "code",
   "execution_count": 20,
   "id": "0567b20a",
   "metadata": {},
   "outputs": [],
   "source": [
    "#wygenerować przykładowe \"księżyce\" (tego typu topologie są najtrudnieksze dla klasyfikatorów)\n",
    "\n",
    "from sklearn.datasets import make_moons\n",
    "#.."
   ]
  },
  {
   "cell_type": "markdown",
   "id": "6e417998",
   "metadata": {},
   "source": [
    "### sklearn.datasets.make_circles"
   ]
  },
  {
   "cell_type": "code",
   "execution_count": null,
   "id": "ba5e4701",
   "metadata": {},
   "outputs": [],
   "source": [
    "#wygenerować przykładowe okręgi/owale 2D\n",
    "#wykonać na nich estymację gęstości za pomocą: scipy.stats.gaussian_kde\n",
    "\n",
    "from sklearn.datasets import make_circles\n",
    "#.."
   ]
  }
 ],
 "metadata": {
  "kernelspec": {
   "display_name": "Python 3 (ipykernel)",
   "language": "python",
   "name": "python3"
  },
  "language_info": {
   "codemirror_mode": {
    "name": "ipython",
    "version": 3
   },
   "file_extension": ".py",
   "mimetype": "text/x-python",
   "name": "python",
   "nbconvert_exporter": "python",
   "pygments_lexer": "ipython3",
   "version": "3.10.11"
  }
 },
 "nbformat": 4,
 "nbformat_minor": 5
}
