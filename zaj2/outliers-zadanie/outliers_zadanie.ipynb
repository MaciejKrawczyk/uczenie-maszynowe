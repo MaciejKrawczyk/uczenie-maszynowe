{
 "cells": [
  {
   "cell_type": "code",
   "execution_count": null,
   "id": "80a06ffd",
   "metadata": {},
   "outputs": [],
   "source": [
    "#wczytać dane z pliku csv (format: feature1, feature2, is_outlier, dataset_id)\n",
    "#jest to pięć (0-4) zbiorów o różnej topologi punktów na płaszczyźnie\n",
    "#w każdym ze zbiorów jest ok 15% wartości odstających\n",
    "\n",
    "import pandas as pd\n",
    "data = pd.read_csv('anomaly_datasets.csv')"
   ]
  },
  {
   "cell_type": "raw",
   "id": "1a1adfea",
   "metadata": {},
   "source": [
    "dla każdej z poniższych metod:\n",
    "-dowiedzieć się jak działa\n",
    "-narysować (matplotlib.pyplot.scatter) wszystkie punkty (w tym punkty odstające innym kolorem)\n",
    "-konturem (matplotlib.pyplot.contour) zaznaczyć granicę od której zaczynają się wartości odstające\n",
    " wg. danej metody\n",
    "-wyliczyć i wypisać metryki, np. liczbę wykazanych przez metodę wartości odstających, dokładność\n",
    " (albo podać TP, FN, TN, FP i każdy sobie wyliczy dowolną metrykę opartą o macierz błędu)"
   ]
  },
  {
   "cell_type": "code",
   "execution_count": null,
   "id": "5df043b5",
   "metadata": {},
   "outputs": [],
   "source": [
    "import matplotlib.pyptlot as plt"
   ]
  },
  {
   "cell_type": "code",
   "execution_count": null,
   "id": "56670fa4",
   "metadata": {},
   "outputs": [],
   "source": [
    "#Z-Score\n",
    "#.."
   ]
  },
  {
   "cell_type": "code",
   "execution_count": null,
   "id": "4855cf8b",
   "metadata": {},
   "outputs": [],
   "source": [
    "#Interquartile Range (IQR)\n",
    "#.."
   ]
  },
  {
   "cell_type": "code",
   "execution_count": null,
   "id": "03e62476",
   "metadata": {},
   "outputs": [],
   "source": [
    "#Robust Covariance\n",
    "from sklearn.covariance import EllipticEnvelope\n",
    "#.."
   ]
  },
  {
   "cell_type": "code",
   "execution_count": null,
   "id": "afef3edf",
   "metadata": {},
   "outputs": [],
   "source": [
    "#One-Class SVM z jądrem (kernel) rbf\n",
    "from sklearn.svm import OneClassSVM\n",
    "#.."
   ]
  },
  {
   "cell_type": "code",
   "execution_count": null,
   "id": "1ab89dfb",
   "metadata": {},
   "outputs": [],
   "source": [
    "#Isolation Forest\n",
    "from sklearn.ensemble import IsolationForest\n",
    "#.."
   ]
  },
  {
   "cell_type": "code",
   "execution_count": null,
   "id": "fe1f069b",
   "metadata": {},
   "outputs": [],
   "source": [
    "#Local Outlier Factor\n",
    "from sklearn.neighbors import LocalOutlierFactor\n",
    "#.."
   ]
  }
 ],
 "metadata": {
  "kernelspec": {
   "display_name": "Python 3 (ipykernel)",
   "language": "python",
   "name": "python3"
  },
  "language_info": {
   "codemirror_mode": {
    "name": "ipython",
    "version": 3
   },
   "file_extension": ".py",
   "mimetype": "text/x-python",
   "name": "python",
   "nbconvert_exporter": "python",
   "pygments_lexer": "ipython3",
   "version": "3.10.11"
  }
 },
 "nbformat": 4,
 "nbformat_minor": 5
}
