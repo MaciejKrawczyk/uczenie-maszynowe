{
 "cells": [
  {
   "cell_type": "code",
   "execution_count": null,
   "id": "a41c91c1",
   "metadata": {},
   "outputs": [],
   "source": [
    "#zbadać pola i metody obiektów jak poniżej"
   ]
  },
  {
   "cell_type": "markdown",
   "id": "2e23db92",
   "metadata": {},
   "source": [
    "### pola sklearn.datasets.*"
   ]
  },
  {
   "cell_type": "code",
   "execution_count": 1,
   "id": "af8324b4",
   "metadata": {},
   "outputs": [],
   "source": [
    "from sklearn import datasets\n",
    "import pandas as pd\n",
    "\n",
    "data = datasets.load_iris()"
   ]
  },
  {
   "cell_type": "code",
   "execution_count": 1,
   "id": "31f55e7a",
   "metadata": {},
   "outputs": [],
   "source": [
    "#.."
   ]
  },
  {
   "cell_type": "markdown",
   "id": "b4687246",
   "metadata": {},
   "source": [
    "### pola sklearn.datasets.* wczytane z flagą \"as_frame\""
   ]
  },
  {
   "cell_type": "code",
   "execution_count": 12,
   "id": "a9b5f070",
   "metadata": {},
   "outputs": [],
   "source": [
    "from sklearn import datasets\n",
    "import pandas as pd\n",
    "\n",
    "df = datasets.load_iris(as_frame=True)"
   ]
  },
  {
   "cell_type": "code",
   "execution_count": 2,
   "id": "c77defb3",
   "metadata": {},
   "outputs": [],
   "source": [
    "#.."
   ]
  },
  {
   "cell_type": "markdown",
   "id": "a528fb23",
   "metadata": {},
   "source": [
    "### pola DataFrame"
   ]
  },
  {
   "cell_type": "code",
   "execution_count": 42,
   "id": "80afd66f",
   "metadata": {},
   "outputs": [],
   "source": [
    "from sklearn import datasets\n",
    "import pandas as pd\n",
    "df = pd.read_csv(\"../zbiory/iris.csv\")  #zbiór iris.csv można samodzielnie zaimportować z sieci\n",
    "                                        #lub jest w załączonym pliku zbiór.zip"
   ]
  },
  {
   "cell_type": "code",
   "execution_count": 3,
   "id": "284cc079",
   "metadata": {},
   "outputs": [],
   "source": [
    "#.."
   ]
  }
 ],
 "metadata": {
  "kernelspec": {
   "display_name": "Python 3 (ipykernel)",
   "language": "python",
   "name": "python3"
  },
  "language_info": {
   "codemirror_mode": {
    "name": "ipython",
    "version": 3
   },
   "file_extension": ".py",
   "mimetype": "text/x-python",
   "name": "python",
   "nbconvert_exporter": "python",
   "pygments_lexer": "ipython3",
   "version": "3.10.11"
  }
 },
 "nbformat": 4,
 "nbformat_minor": 5
}
